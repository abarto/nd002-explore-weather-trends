{
 "cells": [
  {
   "cell_type": "code",
   "execution_count": null,
   "id": "c598bbb0",
   "metadata": {},
   "outputs": [],
   "source": [
    "import pandas as pd"
   ]
  },
  {
   "cell_type": "markdown",
   "id": "4e263389",
   "metadata": {},
   "source": [
    "# Udacity Data Analyst Nanodegree"
   ]
  },
  {
   "cell_type": "markdown",
   "id": "d020ba57",
   "metadata": {},
   "source": [
    "## Project: Explore Weather Trends"
   ]
  },
  {
   "cell_type": "markdown",
   "id": "b93abc07",
   "metadata": {},
   "source": [
    "### Introduction"
   ]
  },
  {
   "cell_type": "markdown",
   "id": "31edf554",
   "metadata": {},
   "source": [
    "For the \"Explore Weather Trends\" project I've decided to use Python, pandas and Jupyter because I'm already somewhat familiar with them and because everything I need (and much more) is provided by the frameworks."
   ]
  },
  {
   "cell_type": "markdown",
   "id": "08cca0b1",
   "metadata": {},
   "source": [
    "The ``global_data`` and ``city_data`` tables were dumpled from Udacity's SQL workspace, downloaded in CSV format and then zipped. I chose to zip the files because I'm going to host this notebook and all related materials on a GitHub repository."
   ]
  },
  {
   "cell_type": "markdown",
   "id": "1a9453bb",
   "metadata": {},
   "source": [
    "I've chosen the city of [Córdoba, Argentina](https://en.wikipedia.org/wiki/C%C3%B3rdoba,_Argentina) as the focus of the analysis."
   ]
  },
  {
   "cell_type": "markdown",
   "id": "9338e553",
   "metadata": {},
   "source": [
    "### Load data"
   ]
  },
  {
   "cell_type": "code",
   "execution_count": null,
   "id": "cecfd57f",
   "metadata": {},
   "outputs": [],
   "source": [
    "global_data_df = pd.read_csv(\"data/global_data.csv.zip\", compression=\"zip\", index_col=\"year\")"
   ]
  },
  {
   "cell_type": "code",
   "execution_count": null,
   "id": "d69816e8",
   "metadata": {},
   "outputs": [],
   "source": [
    "global_data_df.head()"
   ]
  },
  {
   "cell_type": "code",
   "execution_count": null,
   "id": "a2ceb69d",
   "metadata": {},
   "outputs": [],
   "source": [
    "city_data_df = pd.read_csv(\"data/city_data.csv.zip\", compression=\"zip\")"
   ]
  },
  {
   "cell_type": "code",
   "execution_count": null,
   "id": "e3ce1eef",
   "metadata": {},
   "outputs": [],
   "source": [
    "city_data_df.head()"
   ]
  },
  {
   "cell_type": "code",
   "execution_count": null,
   "id": "d2aee6b5",
   "metadata": {},
   "outputs": [],
   "source": [
    "argentina_data_df = city_data_df[city_data_df.country == \"Argentina\"]"
   ]
  },
  {
   "cell_type": "code",
   "execution_count": null,
   "id": "6503ef91",
   "metadata": {},
   "outputs": [],
   "source": [
    "argentina_data_df.head()"
   ]
  },
  {
   "cell_type": "code",
   "execution_count": null,
   "id": "c309bda6",
   "metadata": {},
   "outputs": [],
   "source": [
    "argentina_data_df.city.unique()  # Only Córdoba and Rosario are available?"
   ]
  },
  {
   "cell_type": "code",
   "execution_count": null,
   "id": "698ab3d9",
   "metadata": {},
   "outputs": [],
   "source": [
    "cordoba_data_df = city_data_df[city_data_df.city == \"Cordoba\"].set_index('year')"
   ]
  },
  {
   "cell_type": "code",
   "execution_count": null,
   "id": "71bc6985",
   "metadata": {},
   "outputs": [],
   "source": [
    "cordoba_data_df.head()"
   ]
  },
  {
   "cell_type": "markdown",
   "id": "ce168d1b",
   "metadata": {},
   "source": [
    "### Computing moving avergages"
   ]
  },
  {
   "cell_type": "markdown",
   "id": "98657fda",
   "metadata": {},
   "source": [
    "I've used pandas' [``DataFrame.rolling``](https://pandas.pydata.org/docs/reference/api/pandas.DataFrame.rolling.html) and [``Series.mean``](https://pandas.pydata.org/docs/reference/api/pandas.Series.mean.html) to compute the moving averages as doing it manually would have certainly been cumbersome and error-prone."
   ]
  },
  {
   "cell_type": "markdown",
   "id": "8a547749",
   "metadata": {},
   "source": [
    "I only had yearly temperature averages, so any winodws would have to be larger than that. I chose 5, 10, and 20 year windows to see if I could make different observations based on the window sizes."
   ]
  },
  {
   "cell_type": "code",
   "execution_count": null,
   "id": "85f18130",
   "metadata": {},
   "outputs": [],
   "source": [
    "for window in (5, 10, 20):\n",
    "    cordoba_data_df[f\"{window}Y_mean\"] = cordoba_data_df[\"avg_temp\"].rolling(window).mean()\n",
    "    global_data_df[f\"{window}Y_mean\"] = global_data_df[\"avg_temp\"].rolling(window).mean()"
   ]
  },
  {
   "cell_type": "code",
   "execution_count": null,
   "id": "f7a32f4b",
   "metadata": {},
   "outputs": [],
   "source": []
  }
 ],
 "metadata": {
  "kernelspec": {
   "display_name": "Python 3 (ipykernel)",
   "language": "python",
   "name": "python3"
  },
  "language_info": {
   "codemirror_mode": {
    "name": "ipython",
    "version": 3
   },
   "file_extension": ".py",
   "mimetype": "text/x-python",
   "name": "python",
   "nbconvert_exporter": "python",
   "pygments_lexer": "ipython3",
   "version": "3.10.4"
  }
 },
 "nbformat": 4,
 "nbformat_minor": 5
}
